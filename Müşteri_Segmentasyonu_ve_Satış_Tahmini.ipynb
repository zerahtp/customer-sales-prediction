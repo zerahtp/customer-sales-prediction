{
  "nbformat": 4,
  "nbformat_minor": 0,
  "metadata": {
    "colab": {
      "provenance": [],
      "authorship_tag": "ABX9TyMxqpb1RWUl+Z8lZ1P2pCbP",
      "include_colab_link": true
    },
    "kernelspec": {
      "name": "python3",
      "display_name": "Python 3"
    },
    "language_info": {
      "name": "python"
    }
  },
  "cells": [
    {
      "cell_type": "markdown",
      "metadata": {
        "id": "view-in-github",
        "colab_type": "text"
      },
      "source": [
        "<a href=\"https://colab.research.google.com/github/zerahtp/customer-sales-prediction/blob/main/M%C3%BC%C5%9Fteri_Segmentasyonu_ve_Sat%C4%B1%C5%9F_Tahmini.ipynb\" target=\"_parent\"><img src=\"https://colab.research.google.com/assets/colab-badge.svg\" alt=\"Open In Colab\"/></a>"
      ]
    },
    {
      "cell_type": "markdown",
      "source": [
        "Perakende sektöründe faaliyet gösteren bir şirketin pazarlama ve satış stratejilerini geliştirmek için müşteri segmentasyonu ve satış tahmini yapması gerekmektedir. Bu amaç doğrultusunda, Online Retail II veri setini kullanarak analizler yapacağız. Online Retail II veri seti, 2009-2011 yılları arasında İngiltere merkezli bir online perakendeciden alınan işlemleri içerir. Bu veri seti, müşteri segmentasyonu ve satış tahmini için oldukça değerlidir çünkü müşterilerin alışveriş alışkanlıkları ve satın alma davranışları hakkında kapsamlı bilgiler sunar."
      ],
      "metadata": {
        "id": "2_cJ-XU9xVxU"
      }
    },
    {
      "cell_type": "markdown",
      "source": [
        "\n",
        "\n",
        "### **Veri Setinin İndirilmesi ve Kullanımı**\n",
        "\n",
        "Öncelikle, Kaggle'da bulunan Online Retail II veri setini Google Colab üzerinde kullanabilmemiz için indirmemiz gerekiyor. Bu adımları izleyerek veri setini nasıl indireceğimizi ve yükleyeceğimizi öğreneceğiz.\n",
        "\n",
        "**1. Kaggle API Anahtarını İndirme**\n",
        "\n",
        "Kaggle, veri setlerini indirmek ve kullanmak için bir API sağlar. Bu API'yi kullanabilmek için bir API anahtarına ihtiyacımız var. İşte adımlar:\n",
        "\n",
        "* Kaggle Hesabına Giriş Yapma: İlk olarak, Kaggle hesabınıza giriş yapmanız\n",
        " gerekiyor. Eğer bir Kaggle hesabınız yoksa, Kaggle'a kayıt olarak bir hesap oluşturabilirsiniz.\n",
        "*  API Anahtarını Oluşturma: Profilinize gidip \"Account\" sekmesine tıklayın. Burada \"API\" bölümünü bulacaksınız. \"Create New API Token\" butonuna tıklayarak kaggle.json adlı bir dosya indireceksiniz. Bu dosya, Kaggle API anahtarınızı içerir.\n",
        "\n"
      ],
      "metadata": {
        "id": "tTHL1X3NwjUx"
      }
    },
    {
      "cell_type": "code",
      "execution_count": null,
      "metadata": {
        "colab": {
          "base_uri": "https://localhost:8080/"
        },
        "id": "USE7oWMytMR2",
        "outputId": "5aad63a6-7406-47f1-c7a4-8bb91c5012ec"
      },
      "outputs": [
        {
          "output_type": "stream",
          "name": "stdout",
          "text": [
            "Requirement already satisfied: kaggle in /usr/local/lib/python3.10/dist-packages (1.6.14)\n",
            "Requirement already satisfied: pandas in /usr/local/lib/python3.10/dist-packages (2.0.3)\n",
            "Requirement already satisfied: matplotlib in /usr/local/lib/python3.10/dist-packages (3.7.1)\n",
            "Requirement already satisfied: seaborn in /usr/local/lib/python3.10/dist-packages (0.13.1)\n",
            "Requirement already satisfied: scikit-learn in /usr/local/lib/python3.10/dist-packages (1.2.2)\n",
            "Requirement already satisfied: six>=1.10 in /usr/local/lib/python3.10/dist-packages (from kaggle) (1.16.0)\n",
            "Requirement already satisfied: certifi>=2023.7.22 in /usr/local/lib/python3.10/dist-packages (from kaggle) (2024.7.4)\n",
            "Requirement already satisfied: python-dateutil in /usr/local/lib/python3.10/dist-packages (from kaggle) (2.8.2)\n",
            "Requirement already satisfied: requests in /usr/local/lib/python3.10/dist-packages (from kaggle) (2.31.0)\n",
            "Requirement already satisfied: tqdm in /usr/local/lib/python3.10/dist-packages (from kaggle) (4.66.4)\n",
            "Requirement already satisfied: python-slugify in /usr/local/lib/python3.10/dist-packages (from kaggle) (8.0.4)\n",
            "Requirement already satisfied: urllib3 in /usr/local/lib/python3.10/dist-packages (from kaggle) (2.0.7)\n",
            "Requirement already satisfied: bleach in /usr/local/lib/python3.10/dist-packages (from kaggle) (6.1.0)\n",
            "Requirement already satisfied: pytz>=2020.1 in /usr/local/lib/python3.10/dist-packages (from pandas) (2023.4)\n",
            "Requirement already satisfied: tzdata>=2022.1 in /usr/local/lib/python3.10/dist-packages (from pandas) (2024.1)\n",
            "Requirement already satisfied: numpy>=1.21.0 in /usr/local/lib/python3.10/dist-packages (from pandas) (1.25.2)\n",
            "Requirement already satisfied: contourpy>=1.0.1 in /usr/local/lib/python3.10/dist-packages (from matplotlib) (1.2.1)\n",
            "Requirement already satisfied: cycler>=0.10 in /usr/local/lib/python3.10/dist-packages (from matplotlib) (0.12.1)\n",
            "Requirement already satisfied: fonttools>=4.22.0 in /usr/local/lib/python3.10/dist-packages (from matplotlib) (4.53.1)\n",
            "Requirement already satisfied: kiwisolver>=1.0.1 in /usr/local/lib/python3.10/dist-packages (from matplotlib) (1.4.5)\n",
            "Requirement already satisfied: packaging>=20.0 in /usr/local/lib/python3.10/dist-packages (from matplotlib) (24.1)\n",
            "Requirement already satisfied: pillow>=6.2.0 in /usr/local/lib/python3.10/dist-packages (from matplotlib) (9.4.0)\n",
            "Requirement already satisfied: pyparsing>=2.3.1 in /usr/local/lib/python3.10/dist-packages (from matplotlib) (3.1.2)\n",
            "Requirement already satisfied: scipy>=1.3.2 in /usr/local/lib/python3.10/dist-packages (from scikit-learn) (1.11.4)\n",
            "Requirement already satisfied: joblib>=1.1.1 in /usr/local/lib/python3.10/dist-packages (from scikit-learn) (1.4.2)\n",
            "Requirement already satisfied: threadpoolctl>=2.0.0 in /usr/local/lib/python3.10/dist-packages (from scikit-learn) (3.5.0)\n",
            "Requirement already satisfied: webencodings in /usr/local/lib/python3.10/dist-packages (from bleach->kaggle) (0.5.1)\n",
            "Requirement already satisfied: text-unidecode>=1.3 in /usr/local/lib/python3.10/dist-packages (from python-slugify->kaggle) (1.3)\n",
            "Requirement already satisfied: charset-normalizer<4,>=2 in /usr/local/lib/python3.10/dist-packages (from requests->kaggle) (3.3.2)\n",
            "Requirement already satisfied: idna<4,>=2.5 in /usr/local/lib/python3.10/dist-packages (from requests->kaggle) (3.7)\n"
          ]
        }
      ],
      "source": [
        "# Google Colab'da gerekli kütüphaneleri yükleyelim\n",
        "!pip install kaggle pandas matplotlib seaborn scikit-learn"
      ]
    },
    {
      "cell_type": "markdown",
      "source": [
        "**2. Google Colab'da Kaggle API Anahtarını Yükleme**\n",
        "\n",
        "API anahtarını indirdikten sonra, Google Colab ortamında kullanabilmek için bu dosyayı yüklememiz gerekiyor. Bu adımları takip edin:\n",
        "*   Google Colab'da Yeni Notebook Açma: Google Colab'da yeni bir notebook açın.\n",
        "*   API Anahtarını Yükleme: Aşağıdaki kodu çalıştırarak bilgisayarınızdan kaggle.json dosyasını Colab'a yükleyin.\n",
        "\n",
        "Bu kodu çalıştırdığınızda, bilgisayarınızdan kaggle.json dosyasını seçerek Colab'a yüklemeniz istenecek."
      ],
      "metadata": {
        "id": "MILH2pmFydPm"
      }
    },
    {
      "cell_type": "code",
      "source": [
        "# Kaggle API anahtarını yükleyin (Kaggle API anahtarınızı kaggle.json dosyasından yükleyin)\n",
        "from google.colab import files\n",
        "files.upload()"
      ],
      "metadata": {
        "colab": {
          "base_uri": "https://localhost:8080/",
          "height": 90
        },
        "id": "ylaGKKxKtgqG",
        "outputId": "b92d6c3e-2ab2-4cf3-b9a8-c0bfdb13c832"
      },
      "execution_count": null,
      "outputs": [
        {
          "output_type": "display_data",
          "data": {
            "text/plain": [
              "<IPython.core.display.HTML object>"
            ],
            "text/html": [
              "\n",
              "     <input type=\"file\" id=\"files-def7fab6-ce3e-4e70-9815-5a3101ebb548\" name=\"files[]\" multiple disabled\n",
              "        style=\"border:none\" />\n",
              "     <output id=\"result-def7fab6-ce3e-4e70-9815-5a3101ebb548\">\n",
              "      Upload widget is only available when the cell has been executed in the\n",
              "      current browser session. Please rerun this cell to enable.\n",
              "      </output>\n",
              "      <script>// Copyright 2017 Google LLC\n",
              "//\n",
              "// Licensed under the Apache License, Version 2.0 (the \"License\");\n",
              "// you may not use this file except in compliance with the License.\n",
              "// You may obtain a copy of the License at\n",
              "//\n",
              "//      http://www.apache.org/licenses/LICENSE-2.0\n",
              "//\n",
              "// Unless required by applicable law or agreed to in writing, software\n",
              "// distributed under the License is distributed on an \"AS IS\" BASIS,\n",
              "// WITHOUT WARRANTIES OR CONDITIONS OF ANY KIND, either express or implied.\n",
              "// See the License for the specific language governing permissions and\n",
              "// limitations under the License.\n",
              "\n",
              "/**\n",
              " * @fileoverview Helpers for google.colab Python module.\n",
              " */\n",
              "(function(scope) {\n",
              "function span(text, styleAttributes = {}) {\n",
              "  const element = document.createElement('span');\n",
              "  element.textContent = text;\n",
              "  for (const key of Object.keys(styleAttributes)) {\n",
              "    element.style[key] = styleAttributes[key];\n",
              "  }\n",
              "  return element;\n",
              "}\n",
              "\n",
              "// Max number of bytes which will be uploaded at a time.\n",
              "const MAX_PAYLOAD_SIZE = 100 * 1024;\n",
              "\n",
              "function _uploadFiles(inputId, outputId) {\n",
              "  const steps = uploadFilesStep(inputId, outputId);\n",
              "  const outputElement = document.getElementById(outputId);\n",
              "  // Cache steps on the outputElement to make it available for the next call\n",
              "  // to uploadFilesContinue from Python.\n",
              "  outputElement.steps = steps;\n",
              "\n",
              "  return _uploadFilesContinue(outputId);\n",
              "}\n",
              "\n",
              "// This is roughly an async generator (not supported in the browser yet),\n",
              "// where there are multiple asynchronous steps and the Python side is going\n",
              "// to poll for completion of each step.\n",
              "// This uses a Promise to block the python side on completion of each step,\n",
              "// then passes the result of the previous step as the input to the next step.\n",
              "function _uploadFilesContinue(outputId) {\n",
              "  const outputElement = document.getElementById(outputId);\n",
              "  const steps = outputElement.steps;\n",
              "\n",
              "  const next = steps.next(outputElement.lastPromiseValue);\n",
              "  return Promise.resolve(next.value.promise).then((value) => {\n",
              "    // Cache the last promise value to make it available to the next\n",
              "    // step of the generator.\n",
              "    outputElement.lastPromiseValue = value;\n",
              "    return next.value.response;\n",
              "  });\n",
              "}\n",
              "\n",
              "/**\n",
              " * Generator function which is called between each async step of the upload\n",
              " * process.\n",
              " * @param {string} inputId Element ID of the input file picker element.\n",
              " * @param {string} outputId Element ID of the output display.\n",
              " * @return {!Iterable<!Object>} Iterable of next steps.\n",
              " */\n",
              "function* uploadFilesStep(inputId, outputId) {\n",
              "  const inputElement = document.getElementById(inputId);\n",
              "  inputElement.disabled = false;\n",
              "\n",
              "  const outputElement = document.getElementById(outputId);\n",
              "  outputElement.innerHTML = '';\n",
              "\n",
              "  const pickedPromise = new Promise((resolve) => {\n",
              "    inputElement.addEventListener('change', (e) => {\n",
              "      resolve(e.target.files);\n",
              "    });\n",
              "  });\n",
              "\n",
              "  const cancel = document.createElement('button');\n",
              "  inputElement.parentElement.appendChild(cancel);\n",
              "  cancel.textContent = 'Cancel upload';\n",
              "  const cancelPromise = new Promise((resolve) => {\n",
              "    cancel.onclick = () => {\n",
              "      resolve(null);\n",
              "    };\n",
              "  });\n",
              "\n",
              "  // Wait for the user to pick the files.\n",
              "  const files = yield {\n",
              "    promise: Promise.race([pickedPromise, cancelPromise]),\n",
              "    response: {\n",
              "      action: 'starting',\n",
              "    }\n",
              "  };\n",
              "\n",
              "  cancel.remove();\n",
              "\n",
              "  // Disable the input element since further picks are not allowed.\n",
              "  inputElement.disabled = true;\n",
              "\n",
              "  if (!files) {\n",
              "    return {\n",
              "      response: {\n",
              "        action: 'complete',\n",
              "      }\n",
              "    };\n",
              "  }\n",
              "\n",
              "  for (const file of files) {\n",
              "    const li = document.createElement('li');\n",
              "    li.append(span(file.name, {fontWeight: 'bold'}));\n",
              "    li.append(span(\n",
              "        `(${file.type || 'n/a'}) - ${file.size} bytes, ` +\n",
              "        `last modified: ${\n",
              "            file.lastModifiedDate ? file.lastModifiedDate.toLocaleDateString() :\n",
              "                                    'n/a'} - `));\n",
              "    const percent = span('0% done');\n",
              "    li.appendChild(percent);\n",
              "\n",
              "    outputElement.appendChild(li);\n",
              "\n",
              "    const fileDataPromise = new Promise((resolve) => {\n",
              "      const reader = new FileReader();\n",
              "      reader.onload = (e) => {\n",
              "        resolve(e.target.result);\n",
              "      };\n",
              "      reader.readAsArrayBuffer(file);\n",
              "    });\n",
              "    // Wait for the data to be ready.\n",
              "    let fileData = yield {\n",
              "      promise: fileDataPromise,\n",
              "      response: {\n",
              "        action: 'continue',\n",
              "      }\n",
              "    };\n",
              "\n",
              "    // Use a chunked sending to avoid message size limits. See b/62115660.\n",
              "    let position = 0;\n",
              "    do {\n",
              "      const length = Math.min(fileData.byteLength - position, MAX_PAYLOAD_SIZE);\n",
              "      const chunk = new Uint8Array(fileData, position, length);\n",
              "      position += length;\n",
              "\n",
              "      const base64 = btoa(String.fromCharCode.apply(null, chunk));\n",
              "      yield {\n",
              "        response: {\n",
              "          action: 'append',\n",
              "          file: file.name,\n",
              "          data: base64,\n",
              "        },\n",
              "      };\n",
              "\n",
              "      let percentDone = fileData.byteLength === 0 ?\n",
              "          100 :\n",
              "          Math.round((position / fileData.byteLength) * 100);\n",
              "      percent.textContent = `${percentDone}% done`;\n",
              "\n",
              "    } while (position < fileData.byteLength);\n",
              "  }\n",
              "\n",
              "  // All done.\n",
              "  yield {\n",
              "    response: {\n",
              "      action: 'complete',\n",
              "    }\n",
              "  };\n",
              "}\n",
              "\n",
              "scope.google = scope.google || {};\n",
              "scope.google.colab = scope.google.colab || {};\n",
              "scope.google.colab._files = {\n",
              "  _uploadFiles,\n",
              "  _uploadFilesContinue,\n",
              "};\n",
              "})(self);\n",
              "</script> "
            ]
          },
          "metadata": {}
        },
        {
          "output_type": "stream",
          "name": "stdout",
          "text": [
            "Saving kaggle.json to kaggle.json\n"
          ]
        },
        {
          "output_type": "execute_result",
          "data": {
            "text/plain": [
              "{'kaggle.json': b'{\"username\":\"zehrahatipolu\",\"key\":\"539bc4b26a089fe8e949cc5ac8456a79\"}'}"
            ]
          },
          "metadata": {},
          "execution_count": 3
        }
      ]
    },
    {
      "cell_type": "markdown",
      "source": [
        "*   Artık Kaggle API anahtarımızı yüklediğimize göre, veri setini indirebiliriz. Aşağıdaki kodu çalıştırarak veri setini indirelim. Bu komut, Kaggle'dan veri setini indirir ve çalışma dizininize kaydeder.\n",
        "\n",
        "\n"
      ],
      "metadata": {
        "id": "vSF6GfbvzZMd"
      }
    },
    {
      "cell_type": "code",
      "source": [
        "# Kaggle API ile veri setini indirin\n",
        "!mkdir -p ~/.kaggle\n",
        "!cp kaggle.json ~/.kaggle/\n",
        "!chmod 600 ~/.kaggle/kaggle.json\n",
        "!kaggle datasets download -d mathchi/online-retail-ii-data-set-from-ml-repository"
      ],
      "metadata": {
        "colab": {
          "base_uri": "https://localhost:8080/"
        },
        "id": "FTZ8kdNIuyWN",
        "outputId": "91644bc7-db71-47c5-80b5-f7432a054ef5"
      },
      "execution_count": null,
      "outputs": [
        {
          "output_type": "stream",
          "name": "stdout",
          "text": [
            "Dataset URL: https://www.kaggle.com/datasets/mathchi/online-retail-ii-data-set-from-ml-repository\n",
            "License(s): DbCL-1.0\n",
            "Downloading online-retail-ii-data-set-from-ml-repository.zip to /content\n",
            " 97% 56.0M/57.5M [00:03<00:00, 23.1MB/s]\n",
            "100% 57.5M/57.5M [00:03<00:00, 15.9MB/s]\n"
          ]
        }
      ]
    },
    {
      "cell_type": "markdown",
      "source": [
        "**3. Veri Setini Çıkarma ve Yükleme**\n",
        "\n",
        "İndirilen zip dosyasını çıkarmamız ve veri setini yüklememiz gerekiyor. Aşağıdaki adımları izleyin.\n",
        "\n",
        "*   Bu kod, zip dosyasını data adlı bir klasöre çıkarır.\n",
        "\n"
      ],
      "metadata": {
        "id": "j5psasGPz2or"
      }
    },
    {
      "cell_type": "code",
      "source": [
        "# Dosyayı açalım ve gerekli kütüphaneleri yükleyelim\n",
        "import pandas as pd\n",
        "import zipfile\n",
        "\n",
        "with zipfile.ZipFile('online-retail-ii-data-set-from-ml-repository.zip', 'r') as zip_ref:\n",
        "    zip_ref.extractall('data')"
      ],
      "metadata": {
        "id": "bcwblGsAu4ZI"
      },
      "execution_count": null,
      "outputs": []
    },
    {
      "cell_type": "markdown",
      "source": [
        "\n",
        "\n",
        "*   Bu kod, çıkarılan Excel dosyasını yükler.\n",
        "\n",
        "\n"
      ],
      "metadata": {
        "id": "PlOgb3pH0Q27"
      }
    },
    {
      "cell_type": "code",
      "source": [
        "# Veri setini yükleyelim\n",
        "data = pd.read_excel('data/online_retail_II.xlsx')"
      ],
      "metadata": {
        "id": "Q7auD5M7u-AZ"
      },
      "execution_count": null,
      "outputs": []
    },
    {
      "cell_type": "markdown",
      "source": [
        "# **Adım 1: Veri Keşfi ve Ön İşleme**\n",
        "\n",
        "Veri setini başarıyla yükledikten sonra, veri keşfi ve ön işleme adımlarına geçebiliriz. Bu adımlar, veri setinin temizlenmesini ve analiz için hazır hale getirilmesini sağlar. Veri temizleme adımlarında, eksik verileri ele alacak, hatalı veya mantıksız verileri temizleyecek ve veri setini analizlerimiz için uygun hale getireceğiz.\n",
        "\n",
        "Bu adımları tamamladıktan sonra, müşteri segmentasyonu ve satış tahmini için gerekli analizlere başlayabiliriz. Bu süreç, perakende şirketinin pazarlama stratejilerini geliştirmesine ve müşteri memnuniyetini artırmasına yardımcı olacaktır."
      ],
      "metadata": {
        "id": "HtdR1QkQwcZ0"
      }
    },
    {
      "cell_type": "markdown",
      "source": [
        "**1. Veri Keşfi**\n",
        "\n",
        "Veri setimizin yapısını anlamak için ilk olarak birkaç temel keşif adımını gerçekleştirelim. Bu adımlar, veri setindeki genel özellikleri ve istatistikleri anlamamıza yardımcı olur.\n",
        "\n",
        "Bu kodlar, veri setimizin genel yapısını, temel istatistiklerini ve eksik verileri görmemizi sağlar. Bu bilgiler, veri setini temizlemek ve analizler için uygun hale getirmek için gereklidir."
      ],
      "metadata": {
        "id": "nk-J8QHV2jUa"
      }
    },
    {
      "cell_type": "code",
      "source": [
        "# İlk birkaç satıra bakalım\n",
        "print(data.head())\n",
        "\n",
        "# Temel istatistikler\n",
        "print(data.describe())\n",
        "\n",
        "# Veri setinin yapısını anlamak için genel bilgi\n",
        "print(data.info())\n"
      ],
      "metadata": {
        "colab": {
          "base_uri": "https://localhost:8080/"
        },
        "id": "pk9e8u9pvCMQ",
        "outputId": "d5f7ea0e-ba71-482c-c0d3-6d86161fe16f"
      },
      "execution_count": null,
      "outputs": [
        {
          "output_type": "stream",
          "name": "stdout",
          "text": [
            "  Invoice StockCode                          Description  Quantity  \\\n",
            "0  489434     85048  15CM CHRISTMAS GLASS BALL 20 LIGHTS        12   \n",
            "1  489434    79323P                   PINK CHERRY LIGHTS        12   \n",
            "2  489434    79323W                  WHITE CHERRY LIGHTS        12   \n",
            "3  489434     22041         RECORD FRAME 7\" SINGLE SIZE         48   \n",
            "4  489434     21232       STRAWBERRY CERAMIC TRINKET BOX        24   \n",
            "\n",
            "          InvoiceDate  Price  Customer ID         Country  \n",
            "0 2009-12-01 07:45:00   6.95      13085.0  United Kingdom  \n",
            "1 2009-12-01 07:45:00   6.75      13085.0  United Kingdom  \n",
            "2 2009-12-01 07:45:00   6.75      13085.0  United Kingdom  \n",
            "3 2009-12-01 07:45:00   2.10      13085.0  United Kingdom  \n",
            "4 2009-12-01 07:45:00   1.25      13085.0  United Kingdom  \n",
            "            Quantity                    InvoiceDate          Price  \\\n",
            "count  525461.000000                         525461  525461.000000   \n",
            "mean       10.337667  2010-06-28 11:37:36.845017856       4.688834   \n",
            "min     -9600.000000            2009-12-01 07:45:00  -53594.360000   \n",
            "25%         1.000000            2010-03-21 12:20:00       1.250000   \n",
            "50%         3.000000            2010-07-06 09:51:00       2.100000   \n",
            "75%        10.000000            2010-10-15 12:45:00       4.210000   \n",
            "max     19152.000000            2010-12-09 20:01:00   25111.090000   \n",
            "std       107.424110                            NaN     146.126914   \n",
            "\n",
            "         Customer ID  \n",
            "count  417534.000000  \n",
            "mean    15360.645478  \n",
            "min     12346.000000  \n",
            "25%     13983.000000  \n",
            "50%     15311.000000  \n",
            "75%     16799.000000  \n",
            "max     18287.000000  \n",
            "std      1680.811316  \n",
            "<class 'pandas.core.frame.DataFrame'>\n",
            "RangeIndex: 525461 entries, 0 to 525460\n",
            "Data columns (total 8 columns):\n",
            " #   Column       Non-Null Count   Dtype         \n",
            "---  ------       --------------   -----         \n",
            " 0   Invoice      525461 non-null  object        \n",
            " 1   StockCode    525461 non-null  object        \n",
            " 2   Description  522533 non-null  object        \n",
            " 3   Quantity     525461 non-null  int64         \n",
            " 4   InvoiceDate  525461 non-null  datetime64[ns]\n",
            " 5   Price        525461 non-null  float64       \n",
            " 6   Customer ID  417534 non-null  float64       \n",
            " 7   Country      525461 non-null  object        \n",
            "dtypes: datetime64[ns](1), float64(2), int64(1), object(4)\n",
            "memory usage: 32.1+ MB\n",
            "None\n"
          ]
        }
      ]
    },
    {
      "cell_type": "markdown",
      "source": [
        "**2. Veri Temizleme ve Eksik Verilerin Ele Alınması**\n",
        "\n",
        "Eksik ve hatalı verileri temizlemek, veri analizinde önemli bir adımdır. Veri temizleme işlemleri, analizlerin doğruluğunu artırmak ve güvenilir sonuçlar elde etmek için kritik öneme sahiptir.  Eksik veya hatalı veriler, analizlerimizi yanıltabilir ve yanlış sonuçlara yol açabilir. Bu adımda, eksik verileri ele alacağız ve mantıksız veya hatalı verileri temizleyeceğiz.\n",
        "\n",
        "Bu kodlar, eksik ve hatalı verileri temizler. CustomerID eksik olan satırlar kaldırılır, negatif veya sıfır değer içeren Quantity ve UnitPrice satırları temizlenir."
      ],
      "metadata": {
        "id": "DWD1SeGf2wN-"
      }
    },
    {
      "cell_type": "code",
      "source": [
        "# Eksik verileri kontrol edelim\n",
        "print(data.isnull().sum())\n",
        "\n",
        "# Eksik verileri temizleyelim (örneğin, CustomerID eksik olanları kaldırabiliriz)\n",
        "data_cleaned = data.dropna(subset=['Customer ID'])\n",
        "\n",
        "# Negatif veya hatalı değerleri kontrol edelim ve temizleyelim\n",
        "data_cleaned = data_cleaned[data_cleaned['Quantity'] > 0]\n",
        "data_cleaned = data_cleaned[data_cleaned['Price'] > 0]\n",
        "\n",
        "# Ürün açıklamalarında boş değerleri kontrol edin ve çıkarın\n",
        "data_cleaned = data_cleaned.dropna(subset=['Description'])\n",
        "\n",
        "# Ülke bilgilerinde boş değerleri kontrol edin ve çıkarın\n",
        "data_cleaned = data_cleaned.dropna(subset=['Country'])\n",
        "\n",
        "# Temizlenmiş verinin ilk birkaç satırına bakalım\n",
        "print(data_cleaned.head())\n",
        "\n",
        "\n"
      ],
      "metadata": {
        "colab": {
          "base_uri": "https://localhost:8080/"
        },
        "id": "SJpfkamH26HK",
        "outputId": "ce67537c-c1c6-48af-bf16-c496a1de3f90"
      },
      "execution_count": null,
      "outputs": [
        {
          "output_type": "stream",
          "name": "stdout",
          "text": [
            "Invoice             0\n",
            "StockCode           0\n",
            "Description      2928\n",
            "Quantity            0\n",
            "InvoiceDate         0\n",
            "Price               0\n",
            "Customer ID    107927\n",
            "Country             0\n",
            "dtype: int64\n",
            "  Invoice StockCode                          Description  Quantity  \\\n",
            "0  489434     85048  15CM CHRISTMAS GLASS BALL 20 LIGHTS        12   \n",
            "1  489434    79323P                   PINK CHERRY LIGHTS        12   \n",
            "2  489434    79323W                  WHITE CHERRY LIGHTS        12   \n",
            "3  489434     22041         RECORD FRAME 7\" SINGLE SIZE         48   \n",
            "4  489434     21232       STRAWBERRY CERAMIC TRINKET BOX        24   \n",
            "\n",
            "          InvoiceDate  Price  Customer ID         Country  \n",
            "0 2009-12-01 07:45:00   6.95      13085.0  United Kingdom  \n",
            "1 2009-12-01 07:45:00   6.75      13085.0  United Kingdom  \n",
            "2 2009-12-01 07:45:00   6.75      13085.0  United Kingdom  \n",
            "3 2009-12-01 07:45:00   2.10      13085.0  United Kingdom  \n",
            "4 2009-12-01 07:45:00   1.25      13085.0  United Kingdom  \n"
          ]
        }
      ]
    },
    {
      "cell_type": "markdown",
      "source": [
        "# **Adım 2: Müşteri Segmentasyonu**\n",
        "\n",
        "Veri temizleme ve ön işleme adımlarını tamamladıktan sonra, müşteri segmentasyonu için uygun algoritmayı seçebilir ve uygulayabiliriz.\n",
        "\n",
        "Müşteri segmentasyonu, müşterileri benzer özelliklerine ve davranışlarına göre gruplandırma işlemidir. Bu işlem, pazarlama stratejilerini optimize etmek, müşteri memnuniyetini artırmak ve satışları maksimize etmek için kritik öneme sahiptir. Bu adımda, müşteri segmentasyonu için uygun bir algoritma seçecek, segmentasyon sonuçlarını görselleştirecek ve her segmentin özelliklerini açıklayarak pazarlama stratejileri için önerilerde bulunacağız.\n",
        "\n",
        "**Müşteri Segmentasyonu için K-Means Algoritmasını Kullanma**\n",
        "\n",
        "Müşteri segmentasyonu için birçok algoritma kullanılabilir. K-Means algoritması, basitliği ve etkinliği nedeniyle yaygın olarak tercih edilir. K-Means algoritması, müşterileri benzerliklerine göre K farklı segmente ayırır. Bu örnekte, müşterileri toplam harcama miktarına (TotalPrice) ve satın alma sıklığına (PurchaseFrequency) göre segmentlere ayıracağız.\n",
        "\n",
        "Bu kod, K-Means algoritmasını kullanarak müşterileri dört segmente ayırır ve bu segmentleri toplam harcama miktarı ve satın alma sıklığına göre görselleştirir.;"
      ],
      "metadata": {
        "id": "ZpF-c9mh5Jun"
      }
    },
    {
      "cell_type": "code",
      "source": [
        "from sklearn.cluster import KMeans\n",
        "import matplotlib.pyplot as plt\n",
        "import seaborn as sns\n",
        "\n",
        "# Gerekli kütüphaneleri yükleyelim\n",
        "import numpy as np\n",
        "\n",
        "# Toplam harcama miktarını ve satın alma sıklığını hesaplayalım\n",
        "data_cleaned['TotalPrice'] = data_cleaned['Quantity'] * data_cleaned['Price']\n",
        "customer_data = data_cleaned.groupby('Customer ID').agg({\n",
        "    'TotalPrice': 'sum',\n",
        "    'Invoice': 'count'\n",
        "}).rename(columns={'Invoice': 'PurchaseFrequency'})\n",
        "\n",
        "# K-Means algoritması için veriyi hazırlayalım\n",
        "X = customer_data[['TotalPrice', 'PurchaseFrequency']]\n",
        "\n",
        "# K-Means algoritmasını uygulayalım\n",
        "kmeans = KMeans(n_clusters=4, random_state=0).fit(X)\n",
        "\n",
        "# Segment etiketlerini ekleyelim\n",
        "customer_data['Segment'] = kmeans.labels_\n",
        "\n",
        "# Segmentleri görselleştirelim\n",
        "plt.figure(figsize=(10, 6))\n",
        "sns.scatterplot(data=customer_data, x='TotalPrice', y='PurchaseFrequency', hue='Segment', palette='viridis')\n",
        "plt.title('Customer Segments')\n",
        "plt.xlabel('Total Spending')\n",
        "plt.ylabel('Purchase Frequency')\n",
        "plt.show()\n"
      ],
      "metadata": {
        "colab": {
          "base_uri": "https://localhost:8080/",
          "height": 619
        },
        "id": "ICJjw7FU2-qZ",
        "outputId": "72353e45-0304-4425-f7ec-cb0cb2f0c6b9"
      },
      "execution_count": null,
      "outputs": [
        {
          "output_type": "stream",
          "name": "stderr",
          "text": [
            "/usr/local/lib/python3.10/dist-packages/sklearn/cluster/_kmeans.py:870: FutureWarning: The default value of `n_init` will change from 10 to 'auto' in 1.4. Set the value of `n_init` explicitly to suppress the warning\n",
            "  warnings.warn(\n"
          ]
        },
        {
          "output_type": "display_data",
          "data": {
            "text/plain": [
              "<Figure size 1000x600 with 1 Axes>"
            ],
            "image/png": "[encoded data removed]"
          },
          "metadata": {}
        }
      ]
    },
    {
      "cell_type": "markdown",
      "source": [
        "**Segmentasyon Sonuçlarını Görselleştirin ve Her Segmentin Özelliklerini Açıklayın**\n",
        "\n",
        "Segmentasyon sonuçlarını görselleştirdikten sonra, her segmentin özelliklerini detaylı bir şekilde inceleyelim. Segmentlerin ortalama harcama miktarını ve satın alma sıklığını analiz ederek, her segmentin karakteristik özelliklerini belirleyebiliriz.\n",
        "\n",
        "Bu kod, her segmentin ortalama harcama miktarını ve satın alma sıklığını hesaplar ve bu bilgileri tablo olarak gösterir. Bu tablodan, her segmentin özelliklerini belirleyebiliriz:\n",
        "\n",
        "\n",
        "*   Segment 0: Düşük harcama ve düşük satın alma sıklığı.\n",
        "*   Segment 1: Orta düzeyde harcama ve orta düzeyde satın alma sıklığı.\n",
        "\n",
        "*   Segment 2: Yüksek harcama ve düşük satın alma sıklığı.\n",
        "*   Segment 3: Yüksek harcama ve yüksek satın alma sıklığı."
      ],
      "metadata": {
        "id": "K0Df_eJgB-a2"
      }
    },
    {
      "cell_type": "code",
      "source": [
        "# Her segmentin ortalama harcama miktarını ve satın alma sıklığını hesaplayalım\n",
        "segment_summary = customer_data.groupby('Segment').agg({\n",
        "    'TotalPrice': 'mean',\n",
        "    'PurchaseFrequency': 'mean'\n",
        "}).reset_index()\n",
        "\n",
        "print(segment_summary)\n"
      ],
      "metadata": {
        "colab": {
          "base_uri": "https://localhost:8080/"
        },
        "id": "Hv_eZO_3Av0n",
        "outputId": "b2431659-a8a8-4833-e9e0-4fdeaa3d0de2"
      },
      "execution_count": null,
      "outputs": [
        {
          "output_type": "stream",
          "name": "stdout",
          "text": [
            "   Segment     TotalPrice  PurchaseFrequency\n",
            "0        0    1246.968313          79.406691\n",
            "1        1  264709.196667        1682.666667\n",
            "2        2   16638.207955         489.729730\n",
            "3        3   74805.554615        1226.076923\n"
          ]
        }
      ]
    },
    {
      "cell_type": "markdown",
      "source": [
        "# **Adım 3: Satış Tahmini**\n",
        "\n",
        "Müşteri segmentasyonunu tamamladıktan sonra, satış tahmini için uygun bir makine öğrenimi modeli seçebiliriz. Bu adım, gelecekteki satışları tahmin etmemize yardımcı olur ve stratejik planlamada önemli bir rol oynar.\n",
        "Bu örnekte, daha iyi performans elde etmek için Random Forest Regression modelini kullanacağız.\n",
        "\n",
        "**Random Forest Regression**\n",
        "\n",
        "Random Forest, birden fazla karar ağacı kullanarak tahmin yapan güçlü bir makine öğrenimi algoritmasıdır. Zaman serisi verilerini tahmin etmek için uygundur çünkü verideki karmaşık ilişkileri ve değişiklikleri iyi bir şekilde yakalayabilir."
      ],
      "metadata": {
        "id": "crwADUjrfirb"
      }
    },
    {
      "cell_type": "markdown",
      "source": [
        "**Performans Değerlendirmesi**\n",
        "\n",
        "**Mean Squared Error (MSE):** Modelin tahminleri ile gerçek değerler arasındaki farkın karelerinin ortalamasıdır. MSE değeri ne kadar düşükse, modelin tahmin performansı o kadar iyidir.\n",
        "\n",
        "**R² Score:** Modelin veri üzerindeki açıklama gücünü ifade eder. 1'e yakın bir R² skoru, modelin veriyi iyi açıkladığını gösterir. 0'a yakın bir R² skoru ise modelin veriyi açıklamakta yetersiz olduğunu gösterir. Negatif bir R² skoru, modelin performansının çok düşük olduğunu ifade eder."
      ],
      "metadata": {
        "id": "w9GlRf5wlkTa"
      }
    },
    {
      "cell_type": "code",
      "source": [
        "import pandas as pd\n",
        "import numpy as np\n",
        "from sklearn.model_selection import train_test_split\n",
        "from sklearn.ensemble import RandomForestRegressor\n",
        "from sklearn.metrics import mean_squared_error, r2_score\n",
        "import matplotlib.pyplot as plt\n",
        "\n",
        "# Fatura tarihlerinde boş veya hatalı değerleri kontrol edin ve çıkarın\n",
        "data = data.dropna(subset=['InvoiceDate'])\n",
        "data['InvoiceDate'] = pd.to_datetime(data['InvoiceDate'])\n",
        "\n",
        "# Toplam harcama miktarını hesaplayalım\n",
        "data['TotalPrice'] = data['Quantity'] * data['Price']\n",
        "\n",
        "# Aylık toplam satışları hesaplayalım\n",
        "data['Month'] = data['InvoiceDate'].dt.to_period('M')\n",
        "monthly_sales = data.groupby('Month').agg({'TotalPrice': 'sum'}).reset_index()\n",
        "\n",
        "# Zaman serisi verisini hazırlayalım\n",
        "X = np.array(range(len(monthly_sales))).reshape(-1, 1)\n",
        "y = monthly_sales['TotalPrice'].values\n",
        "\n",
        "# Veriyi eğitim ve test setlerine bölelim\n",
        "X_train, X_test, y_train, y_test = train_test_split(X, y, test_size=0.2, random_state=0)\n",
        "\n",
        "# Random Forest modelini oluşturun ve eğitin\n",
        "model = RandomForestRegressor(n_estimators=100, random_state=0)\n",
        "model.fit(X_train, y_train)\n",
        "\n",
        "# Modeli test edin ve performansını değerlendirin\n",
        "y_pred = model.predict(X_test)\n",
        "\n",
        "# Performans metriklerini hesaplayın\n",
        "mse = mean_squared_error(y_test, y_pred)\n",
        "r2 = r2_score(y_test, y_pred)\n",
        "print('Mean Squared Error:', mse)\n",
        "print('R² Score:', r2)\n",
        "\n",
        "# Modelin sonuçlarını görselleştirelim\n",
        "plt.figure(figsize=(10, 6))\n",
        "plt.plot(monthly_sales['Month'].astype(str), y, label='Actual Sales')\n",
        "plt.plot(monthly_sales['Month'].astype(str)[X_test.flatten()], y_pred, label='Predicted Sales', linestyle='--')\n",
        "plt.xticks(rotation=90)\n",
        "plt.xlabel('Month')\n",
        "plt.ylabel('Total Sales')\n",
        "plt.title('Actual vs Predicted Sales')\n",
        "plt.legend()\n",
        "plt.show()\n"
      ],
      "metadata": {
        "id": "PMhAMWjzCFNt",
        "colab": {
          "base_uri": "https://localhost:8080/",
          "height": 643
        },
        "outputId": "6c194d77-5482-4433-eb62-aa1ef2ee4836"
      },
      "execution_count": null,
      "outputs": [
        {
          "output_type": "stream",
          "name": "stdout",
          "text": [
            "Mean Squared Error: 100628886355.81432\n",
            "R² Score: 0.2767207720388202\n"
          ]
        },
        {
          "output_type": "display_data",
          "data": {
            "text/plain": [
              "<Figure size 1000x600 with 1 Axes>"
            ],
            "image/png": "[encoded data removed]"
          },
          "metadata": {}
        }
      ]
    },
    {
      "cell_type": "code",
      "source": [],
      "metadata": {
        "id": "JfO70Fbzf16x"
      },
      "execution_count": null,
      "outputs": []
    }
  ]
}